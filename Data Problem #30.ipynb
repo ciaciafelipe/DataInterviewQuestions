{
 "cells": [
  {
   "cell_type": "markdown",
   "metadata": {},
   "source": [
    "# Data Problem #30"
   ]
  },
  {
   "cell_type": "markdown",
   "metadata": {},
   "source": [
    "This question was asked by: Walmart \n",
    "\n",
    "Given a list of scrambled airplane tickets, each with a starting city and end city, reconstruct the path of the trip so the trip tickets are in order."
   ]
  },
  {
   "cell_type": "code",
   "execution_count": 41,
   "metadata": {},
   "outputs": [],
   "source": [
    "input_cities = [\n",
    "    ['Chennai', 'Bangalore'], \n",
    "    ['Bombay', 'Delhi'], \n",
    "    ['Goa', 'Chennai'], \n",
    "    ['Delhi', 'Goa'], \n",
    "    ['Bangalore', 'Beijing']\n",
    "]\n",
    "output = [\n",
    "    ['Bombay', 'Delhi'], \n",
    "    ['Delhi', 'Goa'], \n",
    "    ['Goa', 'Chennai'], \n",
    "    ['Chennai', 'Bangalore'], \n",
    "    ['Bangalore', 'Beijing'],\n",
    "]"
   ]
  },
  {
   "cell_type": "markdown",
   "metadata": {},
   "source": [
    "Primeira parte do código ele verifica quais cidades foram marcadas apenas uma vez nos bilhetes, tanto na cidade inicial, quanto na cidade final, marcando assim o primeiro e o último bilhete na lista."
   ]
  },
  {
   "cell_type": "code",
   "execution_count": 42,
   "metadata": {},
   "outputs": [
    {
     "data": {
      "text/plain": [
       "[['Bombay', 'Delhi'], [], [], [], ['Bangalore', 'Beijing']]"
      ]
     },
     "execution_count": 42,
     "metadata": {},
     "output_type": "execute_result"
    }
   ],
   "source": [
    "output = [[]]*5\n",
    "tam = len(input_cities)\n",
    "contagem = 0\n",
    "\n",
    "for x in range(tam):\n",
    "    input_city = input_cities[x][0]\n",
    "    output_city = input_cities[x][1]\n",
    "    \n",
    "    contagem1 = 0\n",
    "    contagem2 = 0\n",
    "    contagem3 = 0\n",
    "    contagem4 = 0\n",
    "    \n",
    "    for y in range(tam):\n",
    "        contagem1 += input_cities[y][0].count(input_city)\n",
    "        contagem2 += input_cities[y][1].count(input_city)\n",
    "        contagem3 += input_cities[y][0].count(output_city)\n",
    "        contagem4 += input_cities[y][1].count(output_city)\n",
    "        \n",
    "    contagem_input = contagem1 + contagem2\n",
    "    contagem_output = contagem3 + contagem4\n",
    "    \n",
    "    if contagem_input == 1:\n",
    "        output[0] = input_cities[x]\n",
    "    elif contagem_output == 1:\n",
    "        output[4] = input_cities[x]\n",
    "        \n",
    "output\n",
    "            \n",
    "    "
   ]
  },
  {
   "cell_type": "markdown",
   "metadata": {},
   "source": [
    "Na segunda parte do código, é organizado a ordem dos bilhetes de acordo com as combinações certas de ida e destino para que fique totalmente ordenado."
   ]
  },
  {
   "cell_type": "code",
   "execution_count": 43,
   "metadata": {},
   "outputs": [
    {
     "data": {
      "text/plain": [
       "[['Bombay', 'Delhi'],\n",
       " ['Delhi', 'Goa'],\n",
       " ['Goa', 'Chennai'],\n",
       " ['Chennai', 'Bangalore'],\n",
       " ['Bangalore', 'Beijing']]"
      ]
     },
     "execution_count": 43,
     "metadata": {},
     "output_type": "execute_result"
    }
   ],
   "source": [
    "y = 0\n",
    "\n",
    "while (y<3):\n",
    "    for x in range(tam):\n",
    "        if input_cities[x][0] == output[y][1]:\n",
    "            output[y+1] = input_cities[x]\n",
    "            y+=1\n",
    "output   "
   ]
  }
 ],
 "metadata": {
  "kernelspec": {
   "display_name": "Python 3",
   "language": "python",
   "name": "python3"
  },
  "language_info": {
   "codemirror_mode": {
    "name": "ipython",
    "version": 3
   },
   "file_extension": ".py",
   "mimetype": "text/x-python",
   "name": "python",
   "nbconvert_exporter": "python",
   "pygments_lexer": "ipython3",
   "version": "3.7.3"
  }
 },
 "nbformat": 4,
 "nbformat_minor": 2
}
